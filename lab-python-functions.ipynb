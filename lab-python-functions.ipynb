{
 "cells": [
  {
   "cell_type": "markdown",
   "id": "25d7736c-ba17-4aff-b6bb-66eba20fbf4e",
   "metadata": {},
   "source": [
    "# Lab | Functions"
   ]
  },
  {
   "cell_type": "markdown",
   "id": "0c581062-8967-4d93-b06e-62833222f930",
   "metadata": {
    "tags": []
   },
   "source": [
    "## Exercise: Managing Customer Orders with Functions\n",
    "\n",
    "In the previous exercise, you improved the code for managing customer orders by using loops and flow control. Now, let's take it a step further and refactor the code by introducing functions.\n",
    "\n",
    "Follow the steps below to complete the exercise:\n",
    "\n",
    "1. Define a function named `initialize_inventory` that takes `products` as a parameter. Inside the function, implement the code for initializing the inventory dictionary using a loop and user input.\n",
    "\n",
    "2. Define a function named `get_customer_orders` that takes no parameters. Inside the function, implement the code for prompting the user to enter the product names using a loop. The function should return the `customer_orders` set.\n",
    "\n",
    "3. Define a function named `update_inventory` that takes `customer_orders` and `inventory` as parameters. Inside the function, implement the code for updating the inventory dictionary based on the customer orders.\n",
    "\n",
    "4. Define a function named `calculate_order_statistics` that takes `customer_orders` and `products` as parameters. Inside the function, implement the code for calculating the order statistics (total products ordered, and percentage of unique products ordered). The function should return these values.\n",
    "\n",
    "5. Define a function named `print_order_statistics` that takes `order_statistics` as a parameter. Inside the function, implement the code for printing the order statistics.\n",
    "\n",
    "6. Define a function named `print_updated_inventory` that takes `inventory` as a parameter. Inside the function, implement the code for printing the updated inventory.\n",
    "\n",
    "7. Call the functions in the appropriate sequence to execute the program and manage customer orders.\n",
    "\n",
    "Hints for functions:\n",
    "\n",
    "- Consider the input parameters required for each function and their return values.\n",
    "- Utilize function parameters and return values to transfer data between functions.\n",
    "- Test your functions individually to ensure they work correctly.\n",
    "\n",
    "\n"
   ]
  },
  {
   "cell_type": "markdown",
   "id": "0f7dad78-a82c-4b6a-a83f-366e9389814c",
   "metadata": {},
   "source": [
    "Define a function named initialize_inventory that takes products as a parameter. Inside the function, implement the code for initializing the inventory dictionary using a loop and user input."
   ]
  },
  {
   "cell_type": "code",
   "execution_count": 112,
   "id": "641beaf3-4ca2-4972-bbb9-a44ba68f3750",
   "metadata": {},
   "outputs": [],
   "source": [
    "# 1\n",
    "def initialize_inventory (products):\n",
    "    inventory = dict()\n",
    "    for i in products:\n",
    "        values = int(input(f\"How many {i} do you have in stock\"))\n",
    "        inventory.update({i:values})\n",
    "    return inventory"
   ]
  },
  {
   "cell_type": "code",
   "execution_count": 114,
   "id": "257db396-2a2b-4834-b43f-092be30b9a5a",
   "metadata": {},
   "outputs": [],
   "source": [
    "# 2\n",
    "def get_customer_orders():\n",
    "    customer_orders = set() \n",
    "    products_sub = products.copy()\n",
    "    order_check=\"yes\"\n",
    "    while order_check == \"yes\":\n",
    "        choice = input(f\"Please choose an item from {products_sub}:\")\n",
    "        if choice in products_sub:\n",
    "            customer_orders.add(choice)\n",
    "            products_sub.remove(choice)\n",
    "            order_check = (input(\"Do you want to add another product (yes/no)?: \"))\n",
    "\n",
    "    return customer_orders"
   ]
  },
  {
   "cell_type": "code",
   "execution_count": 116,
   "id": "0cef4a3b-9f80-44a2-86b6-aee81f1cf7ae",
   "metadata": {},
   "outputs": [],
   "source": [
    "# 3 \n",
    "def update_inventory(customer_orders, inventory):\n",
    "    for a in customer_orders:\n",
    "        b = inventory[a]\n",
    "        inventory[a] = b-1\n",
    "    return inventory"
   ]
  },
  {
   "cell_type": "code",
   "execution_count": 118,
   "id": "630d5361-6a61-44cc-91e2-7b42881126e6",
   "metadata": {},
   "outputs": [],
   "source": [
    "# 4 \n",
    "\n",
    "def calculate_order_statistics(customer_orders, products):\n",
    "    total_product_ordered = len(customer_orders)\n",
    "    uniqe_product_ordered_percentage = (len(customer_orders)/len(products)*100)\n",
    "    order_statistics = (total_product_ordered, uniqe_product_ordered_percentage)\n",
    "\n",
    "    return order_statistics\n"
   ]
  },
  {
   "cell_type": "code",
   "execution_count": 120,
   "id": "8598050d-17d2-4104-ab43-1ec5c8983d89",
   "metadata": {},
   "outputs": [],
   "source": [
    "# 5 \n",
    "\n",
    "    \n",
    "def print_order_statistics(order_statistics):\n",
    "    total_product_ordered, uniqe_product_ordered_percentage = order_statistics\n",
    "    print(f\"Total product ordered is {total_product_ordered}\")\n",
    "    print(f\"Percentage of unique products orderd in {uniqe_product_ordered_percentage}\")\n",
    "    \n",
    "    return print_order_statistics\n"
   ]
  },
  {
   "cell_type": "code",
   "execution_count": 122,
   "id": "9c5c4e01-6b9f-4ccb-aabd-0801c97c6180",
   "metadata": {},
   "outputs": [],
   "source": [
    "# 6 \n",
    "def print_updated_inventory(inventory):\n",
    "    for i in products:\n",
    "        print (f\"The available amount of {i} is {inventory[i]}\")"
   ]
  },
  {
   "cell_type": "code",
   "execution_count": 124,
   "id": "fa3a984e-cca9-4ee7-84ba-db6773cb4ae9",
   "metadata": {},
   "outputs": [
    {
     "name": "stdin",
     "output_type": "stream",
     "text": [
      "How many t-shirt do you have in stock 6\n",
      "How many mug do you have in stock 6\n",
      "How many hat do you have in stock 6\n",
      "How many book do you have in stock 6\n",
      "How many keychain do you have in stock 6\n",
      "Please choose an item from ['t-shirt', 'mug', 'hat', 'book', 'keychain']: mug\n",
      "Do you want to add another product (yes/no)?:  yes\n",
      "Please choose an item from ['t-shirt', 'hat', 'book', 'keychain']: book\n",
      "Do you want to add another product (yes/no)?:  no\n"
     ]
    },
    {
     "name": "stdout",
     "output_type": "stream",
     "text": [
      "Total product ordered is 2\n",
      "Percentage of unique products orderd in 40.0\n",
      "The available amount of t-shirt is 6\n",
      "The available amount of mug is 5\n",
      "The available amount of hat is 6\n",
      "The available amount of book is 5\n",
      "The available amount of keychain is 6\n"
     ]
    }
   ],
   "source": [
    "# 7 \n",
    "\n",
    "products = [\"t-shirt\", \"mug\", \"hat\", \"book\", \"keychain\"]\n",
    "inventory = initialize_inventory (products)\n",
    "customer_orders = get_customer_orders ()\n",
    "inventory = update_inventory(customer_orders, inventory)\n",
    "order_statistics = calculate_order_statistics(customer_orders, products)\n",
    "print_order_statistics(order_statistics)\n",
    "print_updated_inventory(inventory)"
   ]
  },
  {
   "cell_type": "code",
   "execution_count": null,
   "id": "f7c29337-ccfb-427d-be17-c376cadfc2fe",
   "metadata": {},
   "outputs": [],
   "source": []
  }
 ],
 "metadata": {
  "kernelspec": {
   "display_name": "Python 3 (ipykernel)",
   "language": "python",
   "name": "python3"
  },
  "language_info": {
   "codemirror_mode": {
    "name": "ipython",
    "version": 3
   },
   "file_extension": ".py",
   "mimetype": "text/x-python",
   "name": "python",
   "nbconvert_exporter": "python",
   "pygments_lexer": "ipython3",
   "version": "3.11.5"
  }
 },
 "nbformat": 4,
 "nbformat_minor": 5
}
